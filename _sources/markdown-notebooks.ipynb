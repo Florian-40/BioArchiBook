{
 "cells": [
  {
   "cell_type": "markdown",
   "id": "3136dee2",
   "metadata": {},
   "source": [
    "# Tumor tissue organization with BAL stack\n",
    "\n",
    "Here, we use BAL stack studied in a previous publication. \n",
    "See [Deciphering tumour tissue organization by 3D electron microscopy and machine learning](https://www.nature.com/articles/s42003-021-02919-z) for more details.\n",
    "\n",
    "## Test\n",
    "\n",
    "With MyST Markdown, you can define code cells with a directive like so:"
   ]
  },
  {
   "cell_type": "code",
   "execution_count": 1,
   "id": "06f37258",
   "metadata": {
    "tags": [
     "hide-input"
    ]
   },
   "outputs": [
    {
     "ename": "ImportError",
     "evalue": "attempted relative import with no known parent package",
     "output_type": "error",
     "traceback": [
      "\u001b[0;31m---------------------------------------------------------------------------\u001b[0m",
      "\u001b[0;31mImportError\u001b[0m                               Traceback (most recent call last)",
      "\u001b[0;32m/var/folders/53/3cyw1xrs71n9jsyg9ztzb5lw0000gn/T/ipykernel_2311/4181132821.py\u001b[0m in \u001b[0;36m<module>\u001b[0;34m\u001b[0m\n\u001b[1;32m     14\u001b[0m \u001b[0;32mimport\u001b[0m \u001b[0mmatplotlib\u001b[0m \u001b[0;32mas\u001b[0m \u001b[0mmpl\u001b[0m\u001b[0;34m\u001b[0m\u001b[0;34m\u001b[0m\u001b[0m\n\u001b[1;32m     15\u001b[0m \u001b[0;32mimport\u001b[0m \u001b[0mmatplotlib\u001b[0m\u001b[0;34m.\u001b[0m\u001b[0mpyplot\u001b[0m \u001b[0;32mas\u001b[0m \u001b[0mplt\u001b[0m\u001b[0;34m\u001b[0m\u001b[0;34m\u001b[0m\u001b[0m\n\u001b[0;32m---> 16\u001b[0;31m \u001b[0;32mfrom\u001b[0m \u001b[0;34m.\u001b[0m\u001b[0;34m.\u001b[0m\u001b[0mBioArchi\u001b[0m\u001b[0;34m.\u001b[0m\u001b[0mbioarchi\u001b[0m \u001b[0;32mimport\u001b[0m \u001b[0;34m*\u001b[0m\u001b[0;34m\u001b[0m\u001b[0;34m\u001b[0m\u001b[0m\n\u001b[0m\u001b[1;32m     17\u001b[0m \u001b[0;32mfrom\u001b[0m \u001b[0mipywidgets\u001b[0m \u001b[0;32mimport\u001b[0m \u001b[0minteract\u001b[0m\u001b[0;34m,\u001b[0m \u001b[0mfixed\u001b[0m\u001b[0;34m\u001b[0m\u001b[0;34m\u001b[0m\u001b[0m\n\u001b[1;32m     18\u001b[0m \u001b[0;34m\u001b[0m\u001b[0m\n",
      "\u001b[0;31mImportError\u001b[0m: attempted relative import with no known parent package"
     ]
    }
   ],
   "source": [
    "import SimpleITK as sitk\n",
    "\n",
    "import numpy as np\n",
    "import pandas as pd \n",
    "import scipy.ndimage as ndimage\n",
    "import seaborn as sns\n",
    "import scipy.stats as scipy\n",
    "from sklearn.decomposition import PCA\n",
    "\n",
    "import os\n",
    "\n",
    "%matplotlib widget\n",
    "\n",
    "import matplotlib as mpl\n",
    "import matplotlib.pyplot as plt\n",
    "from ..BioArchi.bioarchi import *\n",
    "from ipywidgets import interact, fixed\n",
    "\n",
    "print(sitk.Version())\n",
    "\n",
    "\n",
    "mpl.rc('figure', max_open_warning = 0)\n",
    "\n",
    "label_nuclei_path = \"output/BAL_final2/label_nuclei_cleaned.nii.gz\"\n",
    "label_cells_with_complete_nuclei_path = \"output/BAL_final2/label_cells_with_complete_nuclei.nii.gz\"\n",
    "label_cells_complete_cleaned_path = \"output/BAL_final2/label_cells_complete_cleaned.nii.gz\"\n",
    "\n",
    "#background_path = \"/Users/florianrobert/MEGAsync/Thèse/Donnees_SEM_2022/Task001_Nuclei/imagesTr/BAL_0000.nii.gz\"\n",
    "\n",
    "data_path = \"output/BAL_final2/all_data_BAL.csv\"\n",
    "contour_path = \"output/BAL_final2/contour_cells.nii.gz\"\n",
    "vessel_path = \"output/BAL_final2/Vessel.nii.gz\""
   ]
  },
  {
   "cell_type": "markdown",
   "id": "b972aaf5",
   "metadata": {},
   "source": [
    "When your book is built, the contents of any `{code-cell}` blocks will be\n",
    "executed with your default Jupyter kernel, and their outputs will be displayed\n",
    "in-line with the rest of your content.\n",
    "\n",
    "```{seealso}\n",
    "Jupyter Book uses [Jupytext](https://jupytext.readthedocs.io/en/latest/) to convert text-based files to notebooks, and can support [many other text-based notebook files](https://jupyterbook.org/file-types/jupytext.html).\n",
    "```\n",
    "\n",
    "## Create a notebook with MyST Markdown\n",
    "\n",
    "MyST Markdown notebooks are defined by two things:\n",
    "\n",
    "1. YAML metadata that is needed to understand if / how it should convert text files to notebooks (including information about the kernel needed).\n",
    "   See the YAML at the top of this page for example.\n",
    "2. The presence of `{code-cell}` directives, which will be executed with your book.\n",
    "\n",
    "That's all that is needed to get started!\n",
    "\n",
    "## Quickly add YAML metadata for MyST Notebooks\n",
    "\n",
    "If you have a markdown file and you'd like to quickly add YAML metadata to it, so that Jupyter Book will treat it as a MyST Markdown Notebook, run the following command:\n",
    "\n",
    "```\n",
    "jupyter-book myst init path/to/markdownfile.md\n",
    "```"
   ]
  }
 ],
 "metadata": {
  "jupytext": {
   "cell_metadata_filter": "-all",
   "formats": "md:myst",
   "text_representation": {
    "extension": ".md",
    "format_name": "myst",
    "format_version": 0.13,
    "jupytext_version": "1.11.5"
   }
  },
  "kernelspec": {
   "display_name": "Python 3",
   "language": "python",
   "name": "python3"
  },
  "language_info": {
   "codemirror_mode": {
    "name": "ipython",
    "version": 3
   },
   "file_extension": ".py",
   "mimetype": "text/x-python",
   "name": "python",
   "nbconvert_exporter": "python",
   "pygments_lexer": "ipython3",
   "version": "3.9.7"
  },
  "source_map": [
   14,
   25,
   60
  ]
 },
 "nbformat": 4,
 "nbformat_minor": 5
}